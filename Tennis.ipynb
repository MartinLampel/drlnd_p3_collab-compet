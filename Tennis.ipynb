{
 "cells": [
  {
   "cell_type": "markdown",
   "metadata": {},
   "source": [
    "# Collaboration and Competition\n",
    "\n",
    "---\n",
    "\n",
    "You are welcome to use this coding environment to train your agent for the project.  Follow the instructions below to get started!\n",
    "\n",
    "### 1. Start the Environment\n",
    "\n",
    "Run the next code cell to install a few packages.  This line will take a few minutes to run!"
   ]
  },
  {
   "cell_type": "code",
   "execution_count": 1,
   "metadata": {},
   "outputs": [
    {
     "name": "stdout",
     "output_type": "stream",
     "text": [
      "\u001b[31mtensorflow 1.7.1 has requirement numpy>=1.13.3, but you'll have numpy 1.12.1 which is incompatible.\u001b[0m\r\n",
      "\u001b[31mipython 6.5.0 has requirement prompt-toolkit<2.0.0,>=1.0.15, but you'll have prompt-toolkit 3.0.21 which is incompatible.\u001b[0m\r\n"
     ]
    }
   ],
   "source": [
    "!pip -q install ./python"
   ]
  },
  {
   "cell_type": "markdown",
   "metadata": {},
   "source": [
    "The environment is already saved in the Workspace and can be accessed at the file path provided below. "
   ]
  },
  {
   "cell_type": "code",
   "execution_count": 2,
   "metadata": {},
   "outputs": [
    {
     "name": "stderr",
     "output_type": "stream",
     "text": [
      "INFO:unityagents:\n",
      "'Academy' started successfully!\n",
      "Unity Academy name: Academy\n",
      "        Number of Brains: 1\n",
      "        Number of External Brains : 1\n",
      "        Lesson number : 0\n",
      "        Reset Parameters :\n",
      "\t\t\n",
      "Unity brain name: TennisBrain\n",
      "        Number of Visual Observations (per agent): 0\n",
      "        Vector Observation space type: continuous\n",
      "        Vector Observation space size (per agent): 8\n",
      "        Number of stacked Vector Observation: 3\n",
      "        Vector Action space type: continuous\n",
      "        Vector Action space size (per agent): 2\n",
      "        Vector Action descriptions: , \n"
     ]
    }
   ],
   "source": [
    "from unityagents import UnityEnvironment\n",
    "import numpy as np\n",
    "import torch\n",
    "import magent\n",
    "from collections import deque\n",
    "\n",
    "env = UnityEnvironment(file_name=\"/data/Tennis_Linux_NoVis/Tennis\")"
   ]
  },
  {
   "cell_type": "markdown",
   "metadata": {},
   "source": [
    "Environments contain **_brains_** which are responsible for deciding the actions of their associated agents. Here we check for the first brain available, and set it as the default brain we will be controlling from Python."
   ]
  },
  {
   "cell_type": "code",
   "execution_count": 3,
   "metadata": {},
   "outputs": [],
   "source": [
    "# get the default brain\n",
    "brain_name = env.brain_names[0]\n",
    "brain = env.brains[brain_name]"
   ]
  },
  {
   "cell_type": "markdown",
   "metadata": {},
   "source": [
    "### 2. Examine the State and Action Spaces\n",
    "\n",
    "Run the code cell below to print some information about the environment."
   ]
  },
  {
   "cell_type": "code",
   "execution_count": 4,
   "metadata": {},
   "outputs": [
    {
     "name": "stdout",
     "output_type": "stream",
     "text": [
      "Number of agents: 2\n",
      "Size of each action: 2\n",
      "There are 2 agents. Each observes a state with length: 24\n",
      "The state for the first agent looks like: [ 0.          0.          0.          0.          0.          0.          0.\n",
      "  0.          0.          0.          0.          0.          0.          0.\n",
      "  0.          0.         -6.65278625 -1.5        -0.          0.\n",
      "  6.83172083  6.         -0.          0.        ]\n"
     ]
    }
   ],
   "source": [
    "# reset the environment\n",
    "env_info = env.reset(train_mode=True)[brain_name]\n",
    "\n",
    "# number of agents \n",
    "num_agents = len(env_info.agents)\n",
    "print('Number of agents:', num_agents)\n",
    "\n",
    "# size of each action\n",
    "action_size = brain.vector_action_space_size\n",
    "print('Size of each action:', action_size)\n",
    "\n",
    "# examine the state space \n",
    "states = env_info.vector_observations\n",
    "state_size = states.shape[1]\n",
    "print('There are {} agents. Each observes a state with length: {}'.format(states.shape[0], state_size))\n",
    "print('The state for the first agent looks like:', states[0])"
   ]
  },
  {
   "cell_type": "markdown",
   "metadata": {},
   "source": [
    "### 3. Take Random Actions in the Environment\n",
    "\n",
    "In the next code cell, you will learn how to use the Python API to control the agent and receive feedback from the environment.\n",
    "\n",
    "Note that **in this coding environment, you will not be able to watch the agents while they are training**, and you should set `train_mode=True` to restart the environment."
   ]
  },
  {
   "cell_type": "code",
   "execution_count": 5,
   "metadata": {},
   "outputs": [
    {
     "name": "stdout",
     "output_type": "stream",
     "text": [
      "Total score (averaged over agents) this episode: -0.004999999888241291\n",
      "Total score (averaged over agents) this episode: -0.004999999888241291\n",
      "Total score (averaged over agents) this episode: -0.004999999888241291\n",
      "Total score (averaged over agents) this episode: -0.004999999888241291\n",
      "Total score (averaged over agents) this episode: -0.004999999888241291\n"
     ]
    }
   ],
   "source": [
    "for i in range(5):                                         # play game for 5 episodes\n",
    "    env_info = env.reset(train_mode=False)[brain_name]     # reset the environment    \n",
    "    states = env_info.vector_observations                  # get the current state (for each agent)\n",
    "    scores = np.zeros(num_agents)                          # initialize the score (for each agent)\n",
    "    while True:\n",
    "        actions = np.random.randn(num_agents, action_size) # select an action (for each agent)\n",
    "        actions = np.clip(actions, -1, 1)                  # all actions between -1 and 1\n",
    "        env_info = env.step(actions)[brain_name]           # send all actions to tne environment\n",
    "        next_states = env_info.vector_observations         # get next state (for each agent)\n",
    "        rewards = env_info.rewards                         # get reward (for each agent)\n",
    "        dones = env_info.local_done                        # see if episode finished\n",
    "        scores += env_info.rewards                         # update the score (for each agent)\n",
    "        states = next_states                               # roll over states to next time step\n",
    "        if np.any(dones):                                  # exit loop if episode finished\n",
    "            break\n",
    "    print('Total score (averaged over agents) this episode: {}'.format(np.mean(scores)))"
   ]
  },
  {
   "cell_type": "markdown",
   "metadata": {},
   "source": [
    "When finished, you can close the environment."
   ]
  },
  {
   "cell_type": "markdown",
   "metadata": {},
   "source": [
    "### 4. It's Your Turn!\n",
    "\n",
    "Now it's your turn to train your own agent to solve the environment!  A few **important notes**:\n",
    "- When training the environment, set `train_mode=True`, so that the line for resetting the environment looks like the following:\n",
    "```python\n",
    "env_info = env.reset(train_mode=True)[brain_name]\n",
    "```\n",
    "- To structure your work, you're welcome to work directly in this Jupyter notebook, or you might like to start over with a new file!  You can see the list of files in the workspace by clicking on **_Jupyter_** in the top left corner of the notebook.\n",
    "- In this coding environment, you will not be able to watch the agents while they are training.  However, **_after training the agents_**, you can download the saved model weights to watch the agents on your own machine! "
   ]
  },
  {
   "cell_type": "code",
   "execution_count": 6,
   "metadata": {},
   "outputs": [],
   "source": [
    "import models\n",
    "actor = models.ActorModel(state_size, action_size)\n",
    "critic = models.CriticModel(state_size, action_size)"
   ]
  },
  {
   "cell_type": "code",
   "execution_count": 7,
   "metadata": {},
   "outputs": [
    {
     "data": {
      "text/plain": [
       "ActorModel(\n",
       "  (fc1): Linear(in_features=24, out_features=256, bias=True)\n",
       "  (fc2): Linear(in_features=256, out_features=128, bias=True)\n",
       "  (fc3): Linear(in_features=128, out_features=2, bias=True)\n",
       ")"
      ]
     },
     "execution_count": 7,
     "metadata": {},
     "output_type": "execute_result"
    }
   ],
   "source": [
    "actor"
   ]
  },
  {
   "cell_type": "code",
   "execution_count": 8,
   "metadata": {},
   "outputs": [
    {
     "data": {
      "text/plain": [
       "CriticModel(\n",
       "  (fc1): Linear(in_features=24, out_features=256, bias=True)\n",
       "  (fc2): Linear(in_features=258, out_features=128, bias=True)\n",
       "  (fc3): Linear(in_features=128, out_features=1, bias=True)\n",
       ")"
      ]
     },
     "execution_count": 8,
     "metadata": {},
     "output_type": "execute_result"
    }
   ],
   "source": [
    "critic"
   ]
  },
  {
   "cell_type": "code",
   "execution_count": 9,
   "metadata": {},
   "outputs": [],
   "source": [
    "target_score = 0.5\n",
    "target_episodes = 100\n",
    "\n",
    "## Define the training function\n",
    "def train_agent(env, agent, n_episodes=2000, max_t=1000):\n",
    "    \"\"\"Deep Deterministic Policy Gradients (DDPG).\n",
    "    \n",
    "    Params\n",
    "    ======\n",
    "        n_episodes (int): maximum number of training episodes\n",
    "        max_t (int): maximum number of timesteps per episode\n",
    "    \"\"\"\n",
    "    scores = []      # episodic scores\n",
    "    avg = []\n",
    "    moving_avg_window = deque(maxlen=target_episodes)  # moving average over 100 episodes and over all agents\n",
    "    \n",
    "    ## Perform n_episodes of training\n",
    "    for i_episode in range(1, n_episodes+1):\n",
    "        agent.reset()\n",
    "        env_info = env.reset(train_mode=True)[brain_name]\n",
    "        states = env_info.vector_observations \n",
    "        scores_episode = np.zeros(num_agents)           # rewards per episode for each agent\n",
    "\n",
    "        for t in range(1, max_t+1):\n",
    "            # Perform a step: S;A;R;S'\n",
    "            actions = agent.act(states)                 # select the next action for each agent\n",
    "            env_info = env.step(actions)[brain_name]    # send the actions to the environment\n",
    "            rewards = env_info.rewards                  # get the rewards\n",
    "            next_states = env_info.vector_observations  # get the next states\n",
    "            dones = env_info.local_done\n",
    "            \n",
    "            # Send the results to the Agent         \n",
    "            agent.step(t, states, actions, rewards, next_states, dones)   \n",
    "            # Update the variables for the next iteration\n",
    "            states = next_states\n",
    "            scores_episode += rewards\n",
    "            \n",
    "            if np.any(dones):\n",
    "                break\n",
    "\n",
    "        # Store the rewards and calculate the moving average\n",
    "        score_episode_mean = scores_episode.mean()\n",
    "        moving_avg_window.append(np.max(scores_episode))\n",
    "        scores.append(np.max(scores_episode))\n",
    "               \n",
    "\n",
    "        ## Print the results for this episode\n",
    "        print('Episode {:3d}\\tScore: {:5.2f} \\t' \\\n",
    "              'Moving average: {:5.2f}' \\\n",
    "              .format(i_episode, score_episode_mean,\n",
    "                      np.mean(moving_avg_window)))\n",
    "\n",
    "        ## Check if the environment has been solved\n",
    "        mean_score = np.mean(moving_avg_window)\n",
    "        avg.append(mean_score)\n",
    "        if mean_score >= target_score and i_episode >= target_episodes:\n",
    "            print('\\nEnvironment solved in {:d} episodes!\\t' \\\n",
    "                  'Average Score: {:.2f}'\n",
    "                  .format(i_episode-target_episodes, mean_score))\n",
    "            \n",
    "            ## Save the model along with some training information\n",
    "            actor_dict = [a.actor.state_dict() for a in agent.agents]\n",
    "            critic_dict = [a.critic.state_dict() for a in agent.agents]\n",
    "            checkpoint = {\n",
    "                'actor_dict': actor_dict,\n",
    "                'critic_dict': critic_dict,               \n",
    "                'episodes': i_episode,\n",
    "                'scores': scores,\n",
    "                'moving_avg': avg,\n",
    "                }\n",
    "            print('\\nSaving model ...', end=' ')\n",
    "            torch.save(checkpoint, 'checkpoint.pt')\n",
    "            print('done.')\n",
    "\n",
    "            break\n",
    "\n",
    "    return scores, avg"
   ]
  },
  {
   "cell_type": "code",
   "execution_count": 10,
   "metadata": {},
   "outputs": [
    {
     "name": "stdout",
     "output_type": "stream",
     "text": [
      "Episode   1\tScore: -0.00 \tMoving average:  0.00\n",
      "Episode   2\tScore: -0.00 \tMoving average:  0.00\n",
      "Episode   3\tScore: -0.00 \tMoving average:  0.00\n",
      "Episode   4\tScore: -0.00 \tMoving average:  0.00\n",
      "Episode   5\tScore: -0.00 \tMoving average:  0.00\n",
      "Episode   6\tScore: -0.00 \tMoving average:  0.00\n",
      "Episode   7\tScore: -0.00 \tMoving average:  0.00\n",
      "Episode   8\tScore: -0.00 \tMoving average:  0.00\n",
      "Episode   9\tScore: -0.00 \tMoving average:  0.00\n",
      "Episode  10\tScore: -0.00 \tMoving average:  0.00\n",
      "Episode  11\tScore: -0.00 \tMoving average:  0.00\n",
      "Episode  12\tScore: -0.00 \tMoving average:  0.00\n",
      "Episode  13\tScore: -0.00 \tMoving average:  0.00\n",
      "Episode  14\tScore: -0.00 \tMoving average:  0.00\n",
      "Episode  15\tScore: -0.00 \tMoving average:  0.00\n",
      "Episode  16\tScore: -0.00 \tMoving average:  0.00\n",
      "Episode  17\tScore: -0.00 \tMoving average:  0.00\n",
      "Episode  18\tScore: -0.00 \tMoving average:  0.00\n",
      "Episode  19\tScore: -0.00 \tMoving average:  0.00\n",
      "Episode  20\tScore: -0.00 \tMoving average:  0.00\n",
      "Episode  21\tScore: -0.00 \tMoving average:  0.00\n",
      "Episode  22\tScore: -0.00 \tMoving average:  0.00\n",
      "Episode  23\tScore: -0.00 \tMoving average:  0.00\n",
      "Episode  24\tScore: -0.00 \tMoving average:  0.00\n",
      "Episode  25\tScore: -0.00 \tMoving average:  0.00\n",
      "Episode  26\tScore: -0.00 \tMoving average:  0.00\n",
      "Episode  27\tScore: -0.00 \tMoving average:  0.00\n",
      "Episode  28\tScore: -0.00 \tMoving average:  0.00\n",
      "Episode  29\tScore: -0.00 \tMoving average:  0.00\n",
      "Episode  30\tScore: -0.00 \tMoving average:  0.00\n",
      "Episode  31\tScore: -0.00 \tMoving average:  0.00\n",
      "Episode  32\tScore: -0.00 \tMoving average:  0.00\n",
      "Episode  33\tScore: -0.00 \tMoving average:  0.00\n",
      "Episode  34\tScore: -0.00 \tMoving average:  0.00\n",
      "Episode  35\tScore: -0.00 \tMoving average:  0.00\n",
      "Episode  36\tScore: -0.00 \tMoving average:  0.00\n",
      "Episode  37\tScore: -0.00 \tMoving average:  0.00\n",
      "Episode  38\tScore: -0.00 \tMoving average:  0.00\n",
      "Episode  39\tScore: -0.00 \tMoving average:  0.00\n",
      "Episode  40\tScore: -0.00 \tMoving average:  0.00\n",
      "Episode  41\tScore: -0.00 \tMoving average:  0.00\n",
      "Episode  42\tScore: -0.00 \tMoving average:  0.00\n",
      "Episode  43\tScore: -0.00 \tMoving average:  0.00\n",
      "Episode  44\tScore: -0.00 \tMoving average:  0.00\n",
      "Episode  45\tScore: -0.00 \tMoving average:  0.00\n",
      "Episode  46\tScore: -0.00 \tMoving average:  0.00\n",
      "Episode  47\tScore:  0.05 \tMoving average:  0.00\n",
      "Episode  48\tScore: -0.00 \tMoving average:  0.00\n",
      "Episode  49\tScore: -0.00 \tMoving average:  0.00\n",
      "Episode  50\tScore: -0.00 \tMoving average:  0.00\n",
      "Episode  51\tScore: -0.00 \tMoving average:  0.00\n",
      "Episode  52\tScore:  0.05 \tMoving average:  0.00\n",
      "Episode  53\tScore: -0.00 \tMoving average:  0.00\n",
      "Episode  54\tScore: -0.00 \tMoving average:  0.00\n",
      "Episode  55\tScore: -0.00 \tMoving average:  0.00\n",
      "Episode  56\tScore:  0.05 \tMoving average:  0.01\n",
      "Episode  57\tScore: -0.00 \tMoving average:  0.01\n",
      "Episode  58\tScore: -0.00 \tMoving average:  0.01\n",
      "Episode  59\tScore:  0.05 \tMoving average:  0.01\n",
      "Episode  60\tScore: -0.00 \tMoving average:  0.01\n",
      "Episode  61\tScore:  0.05 \tMoving average:  0.01\n",
      "Episode  62\tScore: -0.00 \tMoving average:  0.01\n",
      "Episode  63\tScore: -0.00 \tMoving average:  0.01\n",
      "Episode  64\tScore:  0.10 \tMoving average:  0.01\n",
      "Episode  65\tScore: -0.00 \tMoving average:  0.01\n",
      "Episode  66\tScore:  0.05 \tMoving average:  0.01\n",
      "Episode  67\tScore:  0.05 \tMoving average:  0.01\n",
      "Episode  68\tScore: -0.00 \tMoving average:  0.01\n",
      "Episode  69\tScore: -0.00 \tMoving average:  0.01\n",
      "Episode  70\tScore:  0.05 \tMoving average:  0.01\n",
      "Episode  71\tScore: -0.00 \tMoving average:  0.01\n",
      "Episode  72\tScore: -0.00 \tMoving average:  0.01\n",
      "Episode  73\tScore: -0.00 \tMoving average:  0.01\n",
      "Episode  74\tScore: -0.00 \tMoving average:  0.01\n",
      "Episode  75\tScore: -0.00 \tMoving average:  0.01\n",
      "Episode  76\tScore: -0.00 \tMoving average:  0.01\n",
      "Episode  77\tScore: -0.00 \tMoving average:  0.01\n",
      "Episode  78\tScore: -0.00 \tMoving average:  0.01\n",
      "Episode  79\tScore: -0.00 \tMoving average:  0.01\n",
      "Episode  80\tScore: -0.00 \tMoving average:  0.01\n",
      "Episode  81\tScore: -0.00 \tMoving average:  0.01\n",
      "Episode  82\tScore: -0.00 \tMoving average:  0.01\n",
      "Episode  83\tScore:  0.05 \tMoving average:  0.01\n",
      "Episode  84\tScore: -0.00 \tMoving average:  0.01\n",
      "Episode  85\tScore:  0.05 \tMoving average:  0.01\n",
      "Episode  86\tScore: -0.00 \tMoving average:  0.01\n",
      "Episode  87\tScore:  0.05 \tMoving average:  0.01\n",
      "Episode  88\tScore: -0.00 \tMoving average:  0.01\n",
      "Episode  89\tScore:  0.05 \tMoving average:  0.01\n",
      "Episode  90\tScore: -0.00 \tMoving average:  0.01\n",
      "Episode  91\tScore: -0.00 \tMoving average:  0.01\n",
      "Episode  92\tScore: -0.00 \tMoving average:  0.01\n",
      "Episode  93\tScore:  0.05 \tMoving average:  0.01\n",
      "Episode  94\tScore: -0.00 \tMoving average:  0.01\n",
      "Episode  95\tScore:  0.05 \tMoving average:  0.01\n",
      "Episode  96\tScore: -0.00 \tMoving average:  0.01\n",
      "Episode  97\tScore:  0.05 \tMoving average:  0.02\n",
      "Episode  98\tScore:  0.05 \tMoving average:  0.02\n",
      "Episode  99\tScore:  0.05 \tMoving average:  0.02\n",
      "Episode 100\tScore: -0.00 \tMoving average:  0.02\n",
      "Episode 101\tScore: -0.00 \tMoving average:  0.02\n",
      "Episode 102\tScore:  0.05 \tMoving average:  0.02\n",
      "Episode 103\tScore:  0.05 \tMoving average:  0.02\n",
      "Episode 104\tScore:  0.05 \tMoving average:  0.02\n",
      "Episode 105\tScore:  0.15 \tMoving average:  0.02\n",
      "Episode 106\tScore:  0.30 \tMoving average:  0.03\n",
      "Episode 107\tScore:  0.05 \tMoving average:  0.03\n",
      "Episode 108\tScore:  0.05 \tMoving average:  0.03\n",
      "Episode 109\tScore:  0.05 \tMoving average:  0.03\n",
      "Episode 110\tScore:  0.05 \tMoving average:  0.03\n",
      "Episode 111\tScore:  0.30 \tMoving average:  0.03\n",
      "Episode 112\tScore:  0.05 \tMoving average:  0.03\n",
      "Episode 113\tScore:  0.05 \tMoving average:  0.03\n",
      "Episode 114\tScore:  0.05 \tMoving average:  0.03\n",
      "Episode 115\tScore:  0.05 \tMoving average:  0.04\n",
      "Episode 116\tScore:  0.05 \tMoving average:  0.04\n",
      "Episode 117\tScore:  0.20 \tMoving average:  0.04\n",
      "Episode 118\tScore:  0.05 \tMoving average:  0.04\n",
      "Episode 119\tScore:  0.05 \tMoving average:  0.04\n",
      "Episode 120\tScore:  0.15 \tMoving average:  0.04\n",
      "Episode 121\tScore: -0.00 \tMoving average:  0.04\n",
      "Episode 122\tScore:  0.15 \tMoving average:  0.04\n",
      "Episode 123\tScore:  0.05 \tMoving average:  0.05\n",
      "Episode 124\tScore:  0.05 \tMoving average:  0.05\n",
      "Episode 125\tScore:  0.05 \tMoving average:  0.05\n",
      "Episode 126\tScore:  0.05 \tMoving average:  0.05\n",
      "Episode 127\tScore:  0.05 \tMoving average:  0.05\n",
      "Episode 128\tScore: -0.00 \tMoving average:  0.05\n",
      "Episode 129\tScore:  0.15 \tMoving average:  0.05\n",
      "Episode 130\tScore: -0.00 \tMoving average:  0.05\n",
      "Episode 131\tScore: -0.00 \tMoving average:  0.05\n",
      "Episode 132\tScore:  0.05 \tMoving average:  0.05\n",
      "Episode 133\tScore:  0.05 \tMoving average:  0.05\n",
      "Episode 134\tScore: -0.00 \tMoving average:  0.05\n",
      "Episode 135\tScore:  0.15 \tMoving average:  0.06\n",
      "Episode 136\tScore:  0.05 \tMoving average:  0.06\n",
      "Episode 137\tScore:  0.05 \tMoving average:  0.06\n",
      "Episode 138\tScore:  0.05 \tMoving average:  0.06\n",
      "Episode 139\tScore:  0.05 \tMoving average:  0.06\n",
      "Episode 140\tScore:  0.40 \tMoving average:  0.06\n",
      "Episode 141\tScore:  0.05 \tMoving average:  0.06\n",
      "Episode 142\tScore:  0.05 \tMoving average:  0.07\n",
      "Episode 143\tScore:  0.05 \tMoving average:  0.07\n",
      "Episode 144\tScore:  0.20 \tMoving average:  0.07\n",
      "Episode 145\tScore:  0.45 \tMoving average:  0.07\n",
      "Episode 146\tScore:  0.75 \tMoving average:  0.08\n",
      "Episode 147\tScore:  0.05 \tMoving average:  0.08\n",
      "Episode 148\tScore:  0.65 \tMoving average:  0.09\n",
      "Episode 149\tScore:  0.30 \tMoving average:  0.09\n",
      "Episode 150\tScore:  0.05 \tMoving average:  0.09\n",
      "Episode 151\tScore:  0.15 \tMoving average:  0.09\n",
      "Episode 152\tScore: -0.00 \tMoving average:  0.09\n",
      "Episode 153\tScore:  0.20 \tMoving average:  0.10\n",
      "Episode 154\tScore:  0.70 \tMoving average:  0.10\n",
      "Episode 155\tScore:  0.35 \tMoving average:  0.11\n",
      "Episode 156\tScore:  0.10 \tMoving average:  0.11\n",
      "Episode 157\tScore:  0.10 \tMoving average:  0.11\n",
      "Episode 158\tScore:  0.10 \tMoving average:  0.11\n",
      "Episode 159\tScore:  0.05 \tMoving average:  0.11\n",
      "Episode 160\tScore:  1.15 \tMoving average:  0.12\n",
      "Episode 161\tScore:  0.05 \tMoving average:  0.12\n",
      "Episode 162\tScore:  0.15 \tMoving average:  0.12\n",
      "Episode 163\tScore:  0.20 \tMoving average:  0.13\n",
      "Episode 164\tScore:  0.10 \tMoving average:  0.13\n",
      "Episode 165\tScore:  0.05 \tMoving average:  0.13\n",
      "Episode 166\tScore:  0.45 \tMoving average:  0.13\n",
      "Episode 167\tScore:  0.05 \tMoving average:  0.13\n",
      "Episode 168\tScore:  0.60 \tMoving average:  0.14\n",
      "Episode 169\tScore:  0.40 \tMoving average:  0.14\n",
      "Episode 170\tScore:  0.15 \tMoving average:  0.14\n",
      "Episode 171\tScore:  0.30 \tMoving average:  0.14\n",
      "Episode 172\tScore:  0.20 \tMoving average:  0.15\n",
      "Episode 173\tScore: -0.00 \tMoving average:  0.15\n",
      "Episode 174\tScore:  0.15 \tMoving average:  0.15\n",
      "Episode 175\tScore:  0.05 \tMoving average:  0.15\n",
      "Episode 176\tScore:  0.40 \tMoving average:  0.15\n",
      "Episode 177\tScore:  2.10 \tMoving average:  0.18\n",
      "Episode 178\tScore:  0.20 \tMoving average:  0.18\n",
      "Episode 179\tScore: -0.00 \tMoving average:  0.18\n",
      "Episode 180\tScore:  0.05 \tMoving average:  0.18\n",
      "Episode 181\tScore:  0.10 \tMoving average:  0.18\n",
      "Episode 182\tScore:  0.05 \tMoving average:  0.18\n",
      "Episode 183\tScore:  1.55 \tMoving average:  0.20\n",
      "Episode 184\tScore:  1.10 \tMoving average:  0.21\n",
      "Episode 185\tScore:  2.60 \tMoving average:  0.23\n",
      "Episode 186\tScore:  0.80 \tMoving average:  0.24\n",
      "Episode 187\tScore:  0.10 \tMoving average:  0.24\n",
      "Episode 188\tScore:  2.45 \tMoving average:  0.27\n",
      "Episode 189\tScore:  0.20 \tMoving average:  0.27\n",
      "Episode 190\tScore:  0.05 \tMoving average:  0.27\n",
      "Episode 191\tScore:  0.10 \tMoving average:  0.27\n",
      "Episode 192\tScore:  0.50 \tMoving average:  0.27\n",
      "Episode 193\tScore:  1.80 \tMoving average:  0.29\n",
      "Episode 194\tScore:  0.90 \tMoving average:  0.30\n",
      "Episode 195\tScore:  0.95 \tMoving average:  0.31\n",
      "Episode 196\tScore:  1.65 \tMoving average:  0.33\n",
      "Episode 197\tScore:  0.10 \tMoving average:  0.33\n",
      "Episode 198\tScore:  0.20 \tMoving average:  0.33\n",
      "Episode 199\tScore:  1.15 \tMoving average:  0.34\n",
      "Episode 200\tScore:  1.20 \tMoving average:  0.35\n",
      "Episode 201\tScore:  0.10 \tMoving average:  0.35\n",
      "Episode 202\tScore:  0.20 \tMoving average:  0.35\n",
      "Episode 203\tScore:  0.20 \tMoving average:  0.35\n",
      "Episode 204\tScore:  2.00 \tMoving average:  0.37\n",
      "Episode 205\tScore:  0.60 \tMoving average:  0.38\n",
      "Episode 206\tScore:  1.25 \tMoving average:  0.39\n",
      "Episode 207\tScore:  0.25 \tMoving average:  0.39\n",
      "Episode 208\tScore:  0.45 \tMoving average:  0.39\n",
      "Episode 209\tScore:  2.60 \tMoving average:  0.42\n",
      "Episode 210\tScore:  0.30 \tMoving average:  0.42\n",
      "Episode 211\tScore:  2.05 \tMoving average:  0.44\n",
      "Episode 212\tScore:  0.25 \tMoving average:  0.44\n",
      "Episode 213\tScore:  1.35 \tMoving average:  0.45\n",
      "Episode 214\tScore:  0.70 \tMoving average:  0.46\n",
      "Episode 215\tScore:  0.75 \tMoving average:  0.47\n",
      "Episode 216\tScore:  1.35 \tMoving average:  0.48\n",
      "Episode 217\tScore:  2.15 \tMoving average:  0.50\n",
      "Episode 218\tScore:  1.55 \tMoving average:  0.51\n",
      "\n",
      "Environment solved in 118 episodes!\tAverage Score: 0.51\n",
      "\n",
      "Saving model ... done.\n"
     ]
    }
   ],
   "source": [
    "agent = magent.MultipleAgents(state_size, action_size, num_agents, seed=5, batch_size=128, tau=0.05, learn_experiences=10)\n",
    "scores, avg = train_agent(env, agent)"
   ]
  },
  {
   "cell_type": "code",
   "execution_count": 12,
   "metadata": {},
   "outputs": [
    {
     "data": {
      "image/png": "[encoded data removed]",
      "text/plain": [
       "<matplotlib.figure.Figure at 0x7fa4db96a240>"
      ]
     },
     "metadata": {
      "needs_background": "light"
     },
     "output_type": "display_data"
    }
   ],
   "source": [
    "%matplotlib inline\n",
    "import matplotlib.pyplot as plt\n",
    "plt.figure()\n",
    "plt.hlines(target_score, 0 , len(avg), colors='r')\n",
    "plt.plot(np.arange(len(avg)), avg, label='moving avg')\n",
    "plt.plot(np.arange(len(scores)), scores, label='Max Score')\n",
    "plt.ylabel('Score')\n",
    "plt.xlabel('Episode #')\n",
    "plt.legend(loc='upper left');\n",
    "plt.show()"
   ]
  },
  {
   "cell_type": "code",
   "execution_count": 14,
   "metadata": {},
   "outputs": [
    {
     "name": "stdout",
     "output_type": "stream",
     "text": [
      "Highest score from this episode: 1.8000000268220901\n",
      "Highest score from this episode: 0.800000011920929\n",
      "Highest score from this episode: 0.20000000298023224\n",
      "Highest score from this episode: 2.600000038743019\n",
      "Highest score from this episode: 1.2000000178813934\n"
     ]
    }
   ],
   "source": [
    "for i in range(5):                                         # play game for 5 episodes\n",
    "    env_info = env.reset(train_mode=False)[brain_name]     # reset the environment    \n",
    "    states = env_info.vector_observations                  # get the current state (for each agent)\n",
    "    scores = np.zeros(num_agents)                          # initialize the score (for each agent)\n",
    "    while True:\n",
    "        actions = agent.act(states, train=False)                        # select an action (for each agent)\n",
    "        env_info = env.step(actions)[brain_name]           # send all actions to tne environment\n",
    "        next_states = env_info.vector_observations         # get next state (for each agent)\n",
    "        rewards = env_info.rewards                         # get reward (for each agent)\n",
    "        dones = env_info.local_done                        # see if episode finished\n",
    "        scores += env_info.rewards                         # update the score (for each agent)\n",
    "        states = next_states                               # roll over states to next time step\n",
    "        if np.any(dones):                                  # exit loop if episode finished\n",
    "            break\n",
    "    print('Highest score from this episode: {}'.format(np.max(scores)))"
   ]
  }
 ],
 "metadata": {
  "kernelspec": {
   "display_name": "Python 3",
   "language": "python",
   "name": "python3"
  },
  "language_info": {
   "codemirror_mode": {
    "name": "ipython",
    "version": 3
   },
   "file_extension": ".py",
   "mimetype": "text/x-python",
   "name": "python",
   "nbconvert_exporter": "python",
   "pygments_lexer": "ipython3",
   "version": "3.6.3"
  }
 },
 "nbformat": 4,
 "nbformat_minor": 2
}
